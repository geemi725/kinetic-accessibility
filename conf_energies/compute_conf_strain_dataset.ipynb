{
 "cells": [
  {
   "cell_type": "code",
   "execution_count": 2,
   "id": "e215211a",
   "metadata": {},
   "outputs": [],
   "source": [
    "import openbabel\n",
    "import pybel\n",
    "import sys\n",
    "import os\n",
    "import os.path\n",
    "import csv\n",
    "import pandas as pd\n",
    "import argparse\n",
    "import numpy as np\n",
    "import itertools\n",
    "import shutil\n",
    "from itertools import combinations\n",
    "import re\n",
    "import collections\n",
    "from collections import OrderedDict\n",
    "from collections import defaultdict\n",
    "import warnings\n",
    "warnings.filterwarnings('ignore')\n",
    "\n",
    "import matplotlib\n",
    "import matplotlib.ticker as ticker\n",
    "from matplotlib.ticker import FormatStrFormatter\n",
    "import matplotlib.pyplot as plt\n",
    "\n",
    "%matplotlib inline"
   ]
  },
  {
   "cell_type": "code",
   "execution_count": 3,
   "id": "e6ab94cc",
   "metadata": {},
   "outputs": [],
   "source": [
    "basedir = 'C:/Users/wellawat/Downloads/conf_energies'\n",
    "datadir = 'C:/Users/wellawat/Downloads/conf_energies/complete_dataset'"
   ]
  },
  {
   "cell_type": "markdown",
   "id": "b48cb6e9",
   "metadata": {},
   "source": [
    "### 1) Rename files to keep them consistent\n",
    "```\n",
    "for filename in os.listdir(datadir):\n",
    "    splt = filename.split('_')\n",
    "    print(filename)\n",
    "    if splt[1] != 'm':\n",
    "        new_ext = '_'.join(splt[1:])\n",
    "        os.rename(f'{datadir}/{filename}', f'{datadir}/{splt[0]}_m_1_{new_ext}')\n",
    "        #os.rename(filename, f'{}')\n",
    "```"
   ]
  },
  {
   "cell_type": "markdown",
   "id": "e549e20c",
   "metadata": {},
   "source": [
    "# Don't run 2,3,4 again. Start from 5!"
   ]
  },
  {
   "cell_type": "markdown",
   "id": "7869b051",
   "metadata": {},
   "source": [
    "### 2) Get SCF done energies and turn into a dataframe"
   ]
  },
  {
   "cell_type": "code",
   "execution_count": 4,
   "id": "ddda0ebd",
   "metadata": {},
   "outputs": [],
   "source": [
    "def create_init_df(scf_file,outname ='scf_energies.csv', cols=['filename', 'energy']):\n",
    "    data = pd.read_csv(scf_file, sep=' ', header=None, names=cols) \n",
    "    nrows = data.shape[0]\n",
    "    for i in range(nrows):\n",
    "        fname = data['filename'][i].split('/')[-1]\n",
    "        data['filename'][i] = fname.split('.')[0]\n",
    "\n",
    "    data.to_csv(outname,index=False)"
   ]
  },
  {
   "cell_type": "code",
   "execution_count": 5,
   "id": "db8f0739",
   "metadata": {},
   "outputs": [],
   "source": [
    "create_init_df(f'{basedir}/complete_dataset_scf_done.txt',f'{basedir}/complete_dataset_scf_done.csv')"
   ]
  },
  {
   "cell_type": "code",
   "execution_count": 6,
   "id": "ded46fb3",
   "metadata": {},
   "outputs": [
    {
     "name": "stdout",
     "output_type": "stream",
     "text": [
      "(9454, 2)\n"
     ]
    },
    {
     "data": {
      "text/html": [
       "<div>\n",
       "<style scoped>\n",
       "    .dataframe tbody tr th:only-of-type {\n",
       "        vertical-align: middle;\n",
       "    }\n",
       "\n",
       "    .dataframe tbody tr th {\n",
       "        vertical-align: top;\n",
       "    }\n",
       "\n",
       "    .dataframe thead th {\n",
       "        text-align: right;\n",
       "    }\n",
       "</style>\n",
       "<table border=\"1\" class=\"dataframe\">\n",
       "  <thead>\n",
       "    <tr style=\"text-align: right;\">\n",
       "      <th></th>\n",
       "      <th>filename</th>\n",
       "      <th>energy</th>\n",
       "    </tr>\n",
       "  </thead>\n",
       "  <tbody>\n",
       "    <tr>\n",
       "      <th>0</th>\n",
       "      <td>ABADIS01_m_1_gas_R</td>\n",
       "      <td>-838.509718</td>\n",
       "    </tr>\n",
       "    <tr>\n",
       "      <th>1</th>\n",
       "      <td>ABADIS01_m_1_gas_xR</td>\n",
       "      <td>-838.512341</td>\n",
       "    </tr>\n",
       "    <tr>\n",
       "      <th>2</th>\n",
       "      <td>ABADIS01_m_1_water_R</td>\n",
       "      <td>-838.537023</td>\n",
       "    </tr>\n",
       "    <tr>\n",
       "      <th>3</th>\n",
       "      <td>ABADIS01_m_1_water_xR</td>\n",
       "      <td>-838.537233</td>\n",
       "    </tr>\n",
       "    <tr>\n",
       "      <th>4</th>\n",
       "      <td>ABADIS_m_1_gas_R</td>\n",
       "      <td>-838.511238</td>\n",
       "    </tr>\n",
       "  </tbody>\n",
       "</table>\n",
       "</div>"
      ],
      "text/plain": [
       "                filename      energy\n",
       "0     ABADIS01_m_1_gas_R -838.509718\n",
       "1    ABADIS01_m_1_gas_xR -838.512341\n",
       "2   ABADIS01_m_1_water_R -838.537023\n",
       "3  ABADIS01_m_1_water_xR -838.537233\n",
       "4       ABADIS_m_1_gas_R -838.511238"
      ]
     },
     "execution_count": 6,
     "metadata": {},
     "output_type": "execute_result"
    }
   ],
   "source": [
    "data_init = pd.read_csv(f'{basedir}/complete_dataset_scf_done.csv')\n",
    "print(data_init.shape)\n",
    "data_init.head()"
   ]
  },
  {
   "cell_type": "code",
   "execution_count": 7,
   "id": "7df4d002",
   "metadata": {},
   "outputs": [
    {
     "name": "stdout",
     "output_type": "stream",
     "text": [
      "(9527, 2)\n"
     ]
    },
    {
     "data": {
      "text/html": [
       "<div>\n",
       "<style scoped>\n",
       "    .dataframe tbody tr th:only-of-type {\n",
       "        vertical-align: middle;\n",
       "    }\n",
       "\n",
       "    .dataframe tbody tr th {\n",
       "        vertical-align: top;\n",
       "    }\n",
       "\n",
       "    .dataframe thead th {\n",
       "        text-align: right;\n",
       "    }\n",
       "</style>\n",
       "<table border=\"1\" class=\"dataframe\">\n",
       "  <thead>\n",
       "    <tr style=\"text-align: right;\">\n",
       "      <th></th>\n",
       "      <th>filename</th>\n",
       "      <th>energy</th>\n",
       "    </tr>\n",
       "  </thead>\n",
       "  <tbody>\n",
       "    <tr>\n",
       "      <th>0</th>\n",
       "      <td>ABADIS01_m_1_gas_R</td>\n",
       "      <td>-838.509718</td>\n",
       "    </tr>\n",
       "    <tr>\n",
       "      <th>1</th>\n",
       "      <td>ABADIS01_m_1_gas_xR</td>\n",
       "      <td>-838.512341</td>\n",
       "    </tr>\n",
       "    <tr>\n",
       "      <th>2</th>\n",
       "      <td>ABADIS01_m_1_water_R</td>\n",
       "      <td>-838.537023</td>\n",
       "    </tr>\n",
       "    <tr>\n",
       "      <th>3</th>\n",
       "      <td>ABADIS01_m_1_water_xR</td>\n",
       "      <td>-838.537233</td>\n",
       "    </tr>\n",
       "    <tr>\n",
       "      <th>4</th>\n",
       "      <td>ABADIS_m_1_gas_R</td>\n",
       "      <td>-838.511238</td>\n",
       "    </tr>\n",
       "  </tbody>\n",
       "</table>\n",
       "</div>"
      ],
      "text/plain": [
       "                filename      energy\n",
       "0     ABADIS01_m_1_gas_R -838.509718\n",
       "1    ABADIS01_m_1_gas_xR -838.512341\n",
       "2   ABADIS01_m_1_water_R -838.537023\n",
       "3  ABADIS01_m_1_water_xR -838.537233\n",
       "4       ABADIS_m_1_gas_R -838.511238"
      ]
     },
     "execution_count": 7,
     "metadata": {},
     "output_type": "execute_result"
    }
   ],
   "source": [
    "## combine energies re-run for files with  NT but ended abruptly\n",
    "\n",
    "df1 = pd.read_csv(f'{basedir}/complete_dataset_scf_done.csv')\n",
    "df2 = pd.read_csv(f'{basedir}/highE_NT_rerun_scf_done.csv')\n",
    "data_init = pd.concat([df1,df2])\n",
    "print(data_init.shape)\n",
    "data_init.to_csv(f'{basedir}/complete_dataset_wNTs_scf_done.csv',index=False)\n",
    "data_init.head()"
   ]
  },
  {
   "cell_type": "markdown",
   "id": "5db0ec1d",
   "metadata": {},
   "source": [
    "### 3) Find NAN files"
   ]
  },
  {
   "cell_type": "code",
   "execution_count": 8,
   "id": "3281902e",
   "metadata": {},
   "outputs": [
    {
     "name": "stdout",
     "output_type": "stream",
     "text": [
      "270\n"
     ]
    }
   ],
   "source": [
    "nan_files = list(data_init.loc[data_init['energy'].isna()]['filename'])\n",
    "print(len(nan_files))\n",
    "with open(f'{basedir}/dataset_nan_list.txt','w') as f:\n",
    "    for file in nan_files:\n",
    "        f.write(f'{file}\\n')\n",
    "        \n",
    "f.close()"
   ]
  },
  {
   "cell_type": "code",
   "execution_count": null,
   "id": "7ab703b8",
   "metadata": {},
   "outputs": [],
   "source": [
    "## move nan_files to a new folder\n",
    "#for i,file in enumerate(nan_files[10:]):\n",
    "#    shutil.move(f'{datadir}/{file}.out',f'{datadir}/nan_files/{file}.out')"
   ]
  },
  {
   "cell_type": "markdown",
   "id": "35e8dc2b",
   "metadata": {},
   "source": [
    "### 4) Drop nan files"
   ]
  },
  {
   "cell_type": "code",
   "execution_count": 9,
   "id": "4a4027d9",
   "metadata": {},
   "outputs": [
    {
     "data": {
      "text/html": [
       "<div>\n",
       "<style scoped>\n",
       "    .dataframe tbody tr th:only-of-type {\n",
       "        vertical-align: middle;\n",
       "    }\n",
       "\n",
       "    .dataframe tbody tr th {\n",
       "        vertical-align: top;\n",
       "    }\n",
       "\n",
       "    .dataframe thead th {\n",
       "        text-align: right;\n",
       "    }\n",
       "</style>\n",
       "<table border=\"1\" class=\"dataframe\">\n",
       "  <thead>\n",
       "    <tr style=\"text-align: right;\">\n",
       "      <th></th>\n",
       "      <th>filename</th>\n",
       "      <th>energy</th>\n",
       "    </tr>\n",
       "  </thead>\n",
       "  <tbody>\n",
       "    <tr>\n",
       "      <th>0</th>\n",
       "      <td>ABADIS01_m_1_gas_R</td>\n",
       "      <td>-838.509718</td>\n",
       "    </tr>\n",
       "    <tr>\n",
       "      <th>1</th>\n",
       "      <td>ABADIS01_m_1_gas_xR</td>\n",
       "      <td>-838.512341</td>\n",
       "    </tr>\n",
       "    <tr>\n",
       "      <th>2</th>\n",
       "      <td>ABADIS01_m_1_water_R</td>\n",
       "      <td>-838.537023</td>\n",
       "    </tr>\n",
       "    <tr>\n",
       "      <th>3</th>\n",
       "      <td>ABADIS01_m_1_water_xR</td>\n",
       "      <td>-838.537233</td>\n",
       "    </tr>\n",
       "    <tr>\n",
       "      <th>4</th>\n",
       "      <td>ABADIS_m_1_gas_R</td>\n",
       "      <td>-838.511238</td>\n",
       "    </tr>\n",
       "  </tbody>\n",
       "</table>\n",
       "</div>"
      ],
      "text/plain": [
       "                filename      energy\n",
       "0     ABADIS01_m_1_gas_R -838.509718\n",
       "1    ABADIS01_m_1_gas_xR -838.512341\n",
       "2   ABADIS01_m_1_water_R -838.537023\n",
       "3  ABADIS01_m_1_water_xR -838.537233\n",
       "4       ABADIS_m_1_gas_R -838.511238"
      ]
     },
     "execution_count": 9,
     "metadata": {},
     "output_type": "execute_result"
    }
   ],
   "source": [
    "data_init = pd.read_csv(f'{basedir}/complete_dataset_wNTs_scf_done.csv')\n",
    "data_init = data_init.dropna()\n",
    "data_init = data_init.reset_index(drop=True)\n",
    "data_init.to_csv(f'{basedir}/complete_dataset_final_scf_done.csv',index=False)\n",
    "data_init.head()"
   ]
  },
  {
   "cell_type": "markdown",
   "id": "7573eae2",
   "metadata": {},
   "source": [
    "# Start from here"
   ]
  },
  {
   "cell_type": "code",
   "execution_count": 10,
   "id": "bbd35284",
   "metadata": {},
   "outputs": [
    {
     "name": "stdout",
     "output_type": "stream",
     "text": [
      "(9257, 2)\n"
     ]
    }
   ],
   "source": [
    "data_init = pd.read_csv(f'{basedir}/complete_dataset_final_scf_done.csv')\n",
    "print(data_init.shape)"
   ]
  },
  {
   "cell_type": "markdown",
   "id": "d729832c",
   "metadata": {},
   "source": [
    "### 5) Keep only max conf energy component when computing $\\Delta E_{AB} = E_{A} - E_{B}$ "
   ]
  },
  {
   "cell_type": "code",
   "execution_count": 11,
   "id": "7df22fe0",
   "metadata": {},
   "outputs": [
    {
     "name": "stdout",
     "output_type": "stream",
     "text": [
      "(9257, 2)\n"
     ]
    }
   ],
   "source": [
    "data_init = pd.read_csv(f'{basedir}/complete_dataset_final_scf_done.csv')\n",
    "print(data_init.shape)\n",
    "grouped = np.array([list(g) for _, g in itertools.groupby(sorted(list(data_init['filename'])), lambda x: x[:6])])"
   ]
  },
  {
   "cell_type": "code",
   "execution_count": 12,
   "id": "8ca0f0c5",
   "metadata": {},
   "outputs": [],
   "source": [
    "#g_fname1 = [] g_fname2 = [] w_fname1 = [] w_fname2 = []\n",
    "\n",
    "gas_del_confE = defaultdict(list)\n",
    "wat_del_confE = defaultdict(list)\n",
    "gas_m1m2  = defaultdict(list)\n",
    "wat_m1m2  = defaultdict(list)\n",
    "\n",
    "for g in range(len(grouped)):\n",
    "    gas_c_files = []\n",
    "    gas_c_energy = []\n",
    "    wat_c_files = []\n",
    "    wat_c_energy = []\n",
    "\n",
    "    for i in itertools.combinations(grouped[g],2): \n",
    "        splt1 = i[0].split('_') \n",
    "        splt2 = i[1].split('_') \n",
    "        ref1 = splt1[0]\n",
    "        ref2 = splt2[0]\n",
    "        m1 = splt1[2]\n",
    "        m2 = splt2[2]\n",
    "        ph1,job1 = splt1[-2:]\n",
    "        ph2,job2 = splt2[-2:]\n",
    "    \n",
    "        if ph1 == ph2:\n",
    "            \n",
    "            if job1==job2=='xR' and ref1 != ref2:\n",
    "                conf_e1 =  data_init.loc[data_init['filename'] == i[0], 'energy'].iloc[0]\n",
    "                conf_e2 =  data_init.loc[data_init['filename'] == i[1], 'energy'].iloc[0]\n",
    "                delta_conf = abs(conf_e1-conf_e2)\n",
    "                \n",
    "                if ph1 == 'gas': \n",
    "                    gas_c_energy.append(delta_conf)\n",
    "                    gas_c_files.append([i[0],i[1]])\n",
    "                else: \n",
    "                    wat_c_energy.append(delta_conf)\n",
    "                    wat_c_files.append([i[0],i[1]])\n",
    "                    #print('appending to water', i[0],i[1])\n",
    "    # when m1-m2 combinations are present. create a dictionary by refs and get max of mx-my pairs\n",
    "    \n",
    "    if len(gas_c_energy) != 0:\n",
    "        for j in range(len(gas_c_energy)):\n",
    "            ref1 = gas_c_files[j][0].split('_')[0]\n",
    "            ref2 = gas_c_files[j][1].split('_')[0]\n",
    "            m1 = gas_c_files[j][0].split('_')[2]\n",
    "            m2 = gas_c_files[j][1].split('_')[2]\n",
    "            \n",
    "            key = f'{ref1}_{ref2}'\n",
    "            gas_del_confE[key].append(gas_c_energy[j])\n",
    "            gas_m1m2[key].append(f'{m1}_{m2}')\n",
    "            \n",
    "    if len(wat_c_energy) != 0:\n",
    "        for j in range(len(wat_c_energy)):\n",
    "            ref1 = wat_c_files[j][0].split('_')[0]\n",
    "            ref2 = wat_c_files[j][1].split('_')[0]\n",
    "            m1 = wat_c_files[j][0].split('_')[2]\n",
    "            m2 = wat_c_files[j][1].split('_')[2]\n",
    "            \n",
    "            key = f'{ref1}_{ref2}'\n",
    "            wat_del_confE[key].append(wat_c_energy[j])\n",
    "            wat_m1m2[key].append(f'{m1}_{m2}')\n",
    "\n",
    "## keep only the max conf E's per group\n",
    "## drop  the A_m1 - A_m2 instances\n",
    "\n",
    "gas_confE_dict = {}\n",
    "gas_confM_dict = {}\n",
    "for k,v in gas_del_confE.items():\n",
    "    gas_confE_dict[k] = max(v)*2625.5\n",
    "    gas_confM_dict[k] = gas_m1m2[k][np.argmax(v)]\n",
    "\n",
    "wat_confE_dict = {}\n",
    "wat_confM_dict = {}\n",
    "for k,v in wat_del_confE.items():\n",
    "    wat_confE_dict[k] = max(v)*2625.5\n",
    "    wat_confM_dict[k] = wat_m1m2[k][np.argmax(v)]"
   ]
  },
  {
   "cell_type": "code",
   "execution_count": 13,
   "id": "f6be2809",
   "metadata": {},
   "outputs": [],
   "source": [
    "## gas conformational energy dataframe\n",
    "def save_conf_df(conf_dict,phase,MM_dict):\n",
    "    df = pd.DataFrame.from_dict(conf_dict, orient='index',columns=['Delta_conformational_energy(kJ/mol)'])\n",
    "    df.reset_index(inplace=True)\n",
    "    df = df.rename(columns = {'index':'Refcodes'})\n",
    "    df['components'] = list(MM_dict.values())\n",
    "    df.to_csv(f'{basedir}/{phase}_dataset_coformational_energy.csv',index=False,header=True)\n",
    "    df.head()"
   ]
  },
  {
   "cell_type": "code",
   "execution_count": 15,
   "id": "fe147fc7",
   "metadata": {},
   "outputs": [],
   "source": [
    "save_conf_df(gas_confE_dict,'Gas',gas_confM_dict)"
   ]
  },
  {
   "cell_type": "code",
   "execution_count": 16,
   "id": "3ba13662",
   "metadata": {},
   "outputs": [],
   "source": [
    "save_conf_df(wat_confE_dict,'Water',wat_confM_dict)"
   ]
  },
  {
   "cell_type": "code",
   "execution_count": 17,
   "id": "4048f7c5",
   "metadata": {},
   "outputs": [],
   "source": [
    "df_gas_conf= pd.read_csv(f'{basedir}/Gas_dataset_coformational_energy.csv')\n",
    "df_wat_conf = pd.read_csv(f'{basedir}/Water_dataset_coformational_energy.csv')"
   ]
  },
  {
   "cell_type": "code",
   "execution_count": 18,
   "id": "d158b7fe",
   "metadata": {},
   "outputs": [
    {
     "name": "stdout",
     "output_type": "stream",
     "text": [
      "(1302, 3) (1298, 3)\n"
     ]
    }
   ],
   "source": [
    "print(df_gas_conf.shape,df_wat_conf.shape)"
   ]
  },
  {
   "cell_type": "markdown",
   "id": "fa22429e",
   "metadata": {},
   "source": [
    "### 6) Compute $\\Delta \\Delta E_{strain}$ "
   ]
  },
  {
   "cell_type": "code",
   "execution_count": 19,
   "id": "9230c54c",
   "metadata": {},
   "outputs": [
    {
     "data": {
      "text/html": [
       "<div>\n",
       "<style scoped>\n",
       "    .dataframe tbody tr th:only-of-type {\n",
       "        vertical-align: middle;\n",
       "    }\n",
       "\n",
       "    .dataframe tbody tr th {\n",
       "        vertical-align: top;\n",
       "    }\n",
       "\n",
       "    .dataframe thead th {\n",
       "        text-align: right;\n",
       "    }\n",
       "</style>\n",
       "<table border=\"1\" class=\"dataframe\">\n",
       "  <thead>\n",
       "    <tr style=\"text-align: right;\">\n",
       "      <th></th>\n",
       "      <th>filename</th>\n",
       "      <th>energy</th>\n",
       "    </tr>\n",
       "  </thead>\n",
       "  <tbody>\n",
       "    <tr>\n",
       "      <th>0</th>\n",
       "      <td>ABADIS01_m_1_gas_R</td>\n",
       "      <td>-838.509718</td>\n",
       "    </tr>\n",
       "    <tr>\n",
       "      <th>1</th>\n",
       "      <td>ABADIS01_m_1_gas_xR</td>\n",
       "      <td>-838.512341</td>\n",
       "    </tr>\n",
       "    <tr>\n",
       "      <th>2</th>\n",
       "      <td>ABADIS01_m_1_water_R</td>\n",
       "      <td>-838.537023</td>\n",
       "    </tr>\n",
       "    <tr>\n",
       "      <th>3</th>\n",
       "      <td>ABADIS01_m_1_water_xR</td>\n",
       "      <td>-838.537233</td>\n",
       "    </tr>\n",
       "    <tr>\n",
       "      <th>4</th>\n",
       "      <td>ABADIS_m_1_gas_R</td>\n",
       "      <td>-838.511238</td>\n",
       "    </tr>\n",
       "  </tbody>\n",
       "</table>\n",
       "</div>"
      ],
      "text/plain": [
       "                filename      energy\n",
       "0     ABADIS01_m_1_gas_R -838.509718\n",
       "1    ABADIS01_m_1_gas_xR -838.512341\n",
       "2   ABADIS01_m_1_water_R -838.537023\n",
       "3  ABADIS01_m_1_water_xR -838.537233\n",
       "4       ABADIS_m_1_gas_R -838.511238"
      ]
     },
     "execution_count": 19,
     "metadata": {},
     "output_type": "execute_result"
    }
   ],
   "source": [
    "data_init = pd.read_csv(f'{basedir}/complete_dataset_final_scf_done.csv')\n",
    "grouped = np.array([list(g) for _, g in itertools.groupby(sorted(list(data_init['filename'])), lambda x: x[:6])])\n",
    "data_init.head()"
   ]
  },
  {
   "cell_type": "code",
   "execution_count": 20,
   "id": "36f3d56e",
   "metadata": {},
   "outputs": [],
   "source": [
    "gas_del_strainE = defaultdict(list)\n",
    "wat_del_strainE = defaultdict(list)\n",
    "gas_m1m2= defaultdict(list)\n",
    "wat_m1m2 = defaultdict(list)\n",
    "\n",
    "for g in range(len(grouped)):\n",
    "    group = grouped[g]\n",
    "    gas_s_files = []\n",
    "    gas_s_energy = []\n",
    "    wat_s_files = []\n",
    "    wat_s_energy = []\n",
    "    strain_group_gas = defaultdict(list)\n",
    "    strain_group_wat = defaultdict(list)\n",
    "    \n",
    "    for i in itertools.combinations(group,2): \n",
    "        splt1 = i[0].split('_') \n",
    "        splt2 = i[1].split('_') \n",
    "        ref1 = splt1[0]\n",
    "        ref2 = splt2[0]\n",
    "        m1 = splt1[2]\n",
    "        m2 = splt2[2]\n",
    "        ph1,job1 = splt1[-2:]\n",
    "        ph2,job2 = splt2[-2:]\n",
    "        \n",
    "        if (ref1==ref2) and (m1==m2): # make sure to use only same ref and same component\n",
    "            if ph1 == ph2 and job1 != job2:\n",
    "            \n",
    "                strain_e1 =  data_init.loc[data_init['filename'] == i[0], 'energy'].iloc[0]\n",
    "                strain_e2 =  data_init.loc[data_init['filename'] == i[1], 'energy'].iloc[0]\n",
    "                delta_strain = abs(strain_e1-strain_e2)\n",
    "\n",
    "                if ph1 == 'gas': \n",
    "                    gas_s_energy.append(delta_strain)\n",
    "                    gas_s_files.append([i[0],i[1]])\n",
    "                else: \n",
    "                    wat_s_energy.append(delta_strain)\n",
    "                    wat_s_files.append([i[0],i[1]])\n",
    "                \n",
    "                        \n",
    "    if len(gas_s_energy) != 0:\n",
    "        for j in range(len(gas_s_energy)):\n",
    "            ref1 = gas_s_files[j][0].split('_')[0]\n",
    "            ref2 = gas_s_files[j][1].split('_')[0]\n",
    "            m1 = gas_s_files[j][0].split('_')[2]\n",
    "            \n",
    "            key = f'{ref1}'\n",
    "            gas_del_strainE[key].append(gas_s_energy[j])\n",
    "            gas_m1m2[key].append(f'{m1}')\n",
    "            \n",
    "    if len(wat_s_energy) != 0:\n",
    "        for j in range(len(wat_s_energy)):\n",
    "            ref1 = wat_s_files[j][0].split('_')[0]\n",
    "            ref2 = wat_s_files[j][1].split('_')[0]\n",
    "            m1 = wat_s_files[j][0].split('_')[2]\n",
    "            key = f'{ref1}'\n",
    "            wat_del_strainE[key].append(wat_s_energy[j])\n",
    "            wat_m1m2[key].append(f'{m1}')\n",
    "            \n",
    "## find max per refcode\n",
    "gas_strainE = {}\n",
    "gas_strainM = {}\n",
    "\n",
    "for k,v in gas_del_strainE.items():\n",
    "    gas_strainE[k] = max(v)*2625.5\n",
    "    gas_strainM[k] = gas_m1m2[k][np.argmax(v)]\n",
    "    #keep_id = np.argmax(v)\n",
    "\n",
    "wat_strainE = {}\n",
    "wat_strainM = {}\n",
    "for k,v in wat_del_strainE.items():\n",
    "    wat_strainE[k] = max(v)*2625.5\n",
    "    wat_strainM[k] = wat_m1m2[k][np.argmax(v)]"
   ]
  },
  {
   "cell_type": "code",
   "execution_count": 21,
   "id": "ddf6d287",
   "metadata": {},
   "outputs": [],
   "source": [
    "def finf_DD_strain(strain_dict,phase,MM_dict):\n",
    "    dd_strainE = defaultdict(list)\n",
    "    mms = []\n",
    "    keys = list(strain_dict.keys())\n",
    "    grouped = np.array([list(g) for _, g in itertools.groupby(sorted(list(keys)), lambda x: x[:6])])\n",
    "    \n",
    "    for g in grouped:\n",
    "        if len(g)>1:\n",
    "            for pair in itertools.combinations(g,2): \n",
    "                ref1 = pair[0]\n",
    "                ref2 = pair[1]\n",
    "                m1 = MM_dict[ref1]\n",
    "                m2 = MM_dict[ref2]\n",
    "                ddS = abs(strain_dict[ref1] - strain_dict[ref2])\n",
    "                dd_strainE[f'{ref1}_{ref2}'].append(ddS)\n",
    "                mms.append(f'{m1}_{m2}')\n",
    "    \n",
    "    df = pd.DataFrame.from_dict(dd_strainE, orient='index',columns=['Delta_strain_energy'])\n",
    "    df.reset_index(inplace=True)\n",
    "    df = df.rename(columns = {'index':'Refcodes'})\n",
    "    df['components'] = mms\n",
    "    df.to_csv(f'{basedir}/{phase}_dataset_strain_energy.csv',index=False,header=True)"
   ]
  },
  {
   "cell_type": "code",
   "execution_count": 22,
   "id": "c999808f",
   "metadata": {},
   "outputs": [],
   "source": [
    "finf_DD_strain(gas_strainE,'Gas',gas_strainM)"
   ]
  },
  {
   "cell_type": "code",
   "execution_count": 23,
   "id": "5be5f9dd",
   "metadata": {},
   "outputs": [],
   "source": [
    "finf_DD_strain(wat_strainE,'Water',wat_strainM)"
   ]
  },
  {
   "cell_type": "code",
   "execution_count": 24,
   "id": "69f99a1c",
   "metadata": {},
   "outputs": [],
   "source": [
    "df_gas_S = pd.read_csv(f'{basedir}/Gas_dataset_strain_energy.csv')\n",
    "df_wat_S = pd.read_csv(f'{basedir}/Water_dataset_strain_energy.csv')"
   ]
  },
  {
   "cell_type": "code",
   "execution_count": null,
   "id": "58ad8243",
   "metadata": {},
   "outputs": [],
   "source": [
    "df_gas_S = df_gas_S.loc[(df_gas_S!=0).any(axis=1)]\n",
    "df_wat_S = df_wat_S.loc[(df_wat_S!=0).any(axis=1)]"
   ]
  },
  {
   "cell_type": "markdown",
   "id": "69c6ec9f",
   "metadata": {},
   "source": [
    "## Plot energies"
   ]
  },
  {
   "cell_type": "code",
   "execution_count": null,
   "id": "bece5b21",
   "metadata": {},
   "outputs": [],
   "source": [
    "df_gas_C= pd.read_csv(f'{basedir}/Gas_coformational_energy.csv')\n",
    "df_wat_C = pd.read_csv(f'{basedir}/Water_coformational_energy.csv')\n",
    "df_gas_S = pd.read_csv(f'{basedir}/Gas_strain_energy.csv')\n",
    "df_wat_S = pd.read_csv(f'{basedir}/Water_strain_energy.csv')"
   ]
  },
  {
   "cell_type": "code",
   "execution_count": null,
   "id": "8f33852f",
   "metadata": {},
   "outputs": [],
   "source": [
    "energies = [df_gas_C,df_wat_C,df_gas_S,df_wat_S]\n",
    "phases = ['gas','water','gas','water']\n",
    "out_type = ['conf','conf','strain','strain']\n",
    "types = ['Delta_conformational_energy(kJ/mol)','Delta_conformational_energy(kJ/mol)','Delta_strain_energy','Delta_strain_energy']\n",
    "xlabels = [r'$\\Delta$ Conformation energy (kJ/mol)',r'$\\Delta$ Conformation energy (kJ/mol)',r'$\\Delta$ Strain energy (kJ/mol)',r'$\\Delta$ Strain energy (kJ/mol)']"
   ]
  },
  {
   "cell_type": "code",
   "execution_count": null,
   "id": "79358026",
   "metadata": {},
   "outputs": [],
   "source": [
    "def plot_histogram(elist,outname,xlabel,density=True):\n",
    "    fig, ax = plt.subplots(figsize=(8,6))\n",
    "    n, bins, patches = ax.hist(elist,100,density=True, range=(0.00,200))\n",
    "    #csum = np.cumsum(n)\n",
    "    #ax.plot(bins[1:],n)\n",
    "    #ax.invert_xaxis()\n",
    "    ax.set_xlabel(xlabel)\n",
    "    ax.set_ylabel('Probability density')\n",
    "    ax.set_title('Conformational energy distribution')\n",
    "    fig.savefig(outname, dpi=600, facecolor='w')\n",
    "    fig.show()"
   ]
  },
  {
   "cell_type": "code",
   "execution_count": null,
   "id": "3d4bb948",
   "metadata": {},
   "outputs": [],
   "source": []
  },
  {
   "cell_type": "code",
   "execution_count": null,
   "id": "1439a8e6",
   "metadata": {},
   "outputs": [],
   "source": [
    "df_gas_S = df_gas_S.sort_values(by=['Delta_strain_energy'])\n"
   ]
  },
  {
   "cell_type": "code",
   "execution_count": null,
   "id": "c1ea8fd4",
   "metadata": {},
   "outputs": [],
   "source": [
    "csum = df_gas_S.cumsum()\n",
    "csum['Delta_strain_energy']"
   ]
  },
  {
   "cell_type": "code",
   "execution_count": null,
   "id": "84740cc4",
   "metadata": {},
   "outputs": [],
   "source": [
    "sums = list(csum['Delta_strain_energy'])\n",
    "tot = np.sum(sums)\n",
    "plt.plot(np.arange(len(sums)),sums/tot)"
   ]
  },
  {
   "cell_type": "code",
   "execution_count": null,
   "id": "d02498cb",
   "metadata": {},
   "outputs": [],
   "source": [
    "c_energies = list(df_gas_S['Delta_strain_energy'])\n",
    "type(c_energies[2])"
   ]
  },
  {
   "cell_type": "code",
   "execution_count": null,
   "id": "33362075",
   "metadata": {},
   "outputs": [],
   "source": [
    "c_energies = list(df_gas_S['Delta_strain_energy'])\n",
    "energies= []\n",
    "for c in c_energies:\n",
    "    if c < 500.0:\n",
    "        energies.append(c)"
   ]
  },
  {
   "cell_type": "code",
   "execution_count": null,
   "id": "06af7a53",
   "metadata": {},
   "outputs": [],
   "source": [
    "plot_histogram(energies,'xx',density=True)"
   ]
  },
  {
   "cell_type": "code",
   "execution_count": null,
   "id": "64a4295e",
   "metadata": {},
   "outputs": [],
   "source": [
    "\n",
    "for i in range(len(grouped)):\n",
    "    group = grouped[i]\n",
    "    gas_free_files = []\n",
    "    gas_free_energy = []\n",
    "    wat_free_files = []\n",
    "    wat_free_energy = []\n",
    "    for i in itertools.combinations(group,2): \n",
    "        \n",
    "        splt = filename.split('_')\n",
    "        ref = splt[0]\n",
    "        idx = splt[2] \n",
    "        phase = splt[-2]\n",
    "        opt = splt[-1]\n",
    "\n",
    "for i in itertools.combinations(grouped[2], 2):\n",
    "    if i[0].split('_')[-2] == i[1].split('_')[-2]:\n",
    "        print(i)"
   ]
  },
  {
   "cell_type": "markdown",
   "id": "03af3ef1",
   "metadata": {},
   "source": [
    "## OLD CODES"
   ]
  },
  {
   "cell_type": "code",
   "execution_count": null,
   "id": "31a1e427",
   "metadata": {},
   "outputs": [],
   "source": [
    "''' #if there's more than one delta conf Es per group per solvent this won't work \n",
    "    if len(gas_c_energy) > 1:\n",
    "        max_id = np.argmax(gas_c_energy)\n",
    "        gas_del_confE.append(np.max(gas_c_energy))\n",
    "        ref1 = gas_c_files[max_id][0].split('_')[0]\n",
    "        ref2 = gas_c_files[max_id][1].split('_')[0]\n",
    "        m1 = gas_c_files[max_id][0].split('_')[2]\n",
    "        m2 = gas_c_files[max_id][1].split('_')[2]\n",
    "        g_fname1.append(f'{ref1}_{ref2}')\n",
    "        g_fname2.append(f'm{m1}_m{m2}')\n",
    "      \n",
    "        \n",
    "    if len(wat_c_energy) > 1:\n",
    "        \n",
    "        max_id = np.argmax(wat_c_energy)\n",
    "        wat_del_confE.append(np.max(wat_c_energy))\n",
    "        ref1 = wat_c_files[max_id][0].split('_')[0]\n",
    "        ref2 = wat_c_files[max_id][1].split('_')[0]\n",
    "        m1 = wat_c_files[max_id][0].split('_')[2]\n",
    "        m2 = wat_c_files[max_id][1].split('_')[2]\n",
    "        w_fname1.append(f'{ref1}_{ref2}')\n",
    "        w_fname2.append(f'm{m1}_m{m2}')\n",
    "        \n",
    "    if len(gas_c_energy) == 1:\n",
    "        gas_del_confE.append(gas_c_energy)\n",
    "        ref1 = gas_c_files[0][0].split('_')[0]\n",
    "        ref2 = gas_c_files[0][1].split('_')[0]\n",
    "        m1 = gas_c_files[0][0].split('_')[2]\n",
    "        m2 = gas_c_files[0][1].split('_')[2]\n",
    "        g_fname1.append(f'{ref1}_{ref2}')\n",
    "        g_fname2.append(f'm{m1}_m{m2}')\n",
    "        \n",
    "    if len(wat_c_energy) == 1:\n",
    "        wat_del_confE.append(wat_c_energy)\n",
    "        ref1 = wat_c_files[0][0].split('_')[0]\n",
    "        ref2 = wat_c_files[0][1].split('_')[0]\n",
    "        m1 = wat_c_files[0][0].split('_')[2]\n",
    "        m2 = wat_c_files[0][1].split('_')[2]\n",
    "        w_fname1.append(f'{ref1}_{ref2}')\n",
    "        w_fname2.append(f'm{m1}_m{m2}')\n",
    "        '''"
   ]
  },
  {
   "cell_type": "code",
   "execution_count": null,
   "id": "bd2cbb7a",
   "metadata": {},
   "outputs": [],
   "source": [
    "import openbabel"
   ]
  },
  {
   "cell_type": "code",
   "execution_count": null,
   "id": "9f6ef572",
   "metadata": {},
   "outputs": [],
   "source": [
    "!babel complete_dataset/ABADIS_m_1_water_R.out ABADIS_m_1_water_R.mol2"
   ]
  },
  {
   "cell_type": "code",
   "execution_count": null,
   "id": "1b7e4db6",
   "metadata": {},
   "outputs": [],
   "source": []
  }
 ],
 "metadata": {
  "kernelspec": {
   "display_name": "summer",
   "language": "python",
   "name": "summer"
  },
  "language_info": {
   "codemirror_mode": {
    "name": "ipython",
    "version": 3
   },
   "file_extension": ".py",
   "mimetype": "text/x-python",
   "name": "python",
   "nbconvert_exporter": "python",
   "pygments_lexer": "ipython3",
   "version": "3.7.13"
  }
 },
 "nbformat": 4,
 "nbformat_minor": 5
}
