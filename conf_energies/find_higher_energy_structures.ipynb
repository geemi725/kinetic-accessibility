{
 "cells": [
  {
   "cell_type": "code",
   "execution_count": 1,
   "id": "9d426030",
   "metadata": {},
   "outputs": [
    {
     "name": "stderr",
     "output_type": "stream",
     "text": [
      "C:\\ProgramData\\Anaconda3\\envs\\summer\\lib\\site-packages\\pybel\\struct\\operations.py:8: TqdmWarning: IProgress not found. Please update jupyter and ipywidgets. See https://ipywidgets.readthedocs.io/en/stable/user_install.html\n",
      "  from tqdm.autonotebook import tqdm\n"
     ]
    }
   ],
   "source": [
    "import openbabel\n",
    "import pybel\n",
    "import sys\n",
    "import os\n",
    "import os.path\n",
    "import csv\n",
    "import pandas as pd\n",
    "import argparse\n",
    "import numpy as np\n",
    "import itertools\n",
    "import shutil\n",
    "from itertools import combinations\n",
    "import re\n",
    "import collections\n",
    "from collections import OrderedDict\n",
    "from collections import defaultdict\n",
    "import warnings\n",
    "warnings.filterwarnings('ignore')\n",
    "\n",
    "import matplotlib\n",
    "import matplotlib.ticker as ticker\n",
    "from matplotlib.ticker import FormatStrFormatter\n",
    "import matplotlib.pyplot as plt\n",
    "\n",
    "%matplotlib inline"
   ]
  },
  {
   "cell_type": "code",
   "execution_count": null,
   "id": "fd9984e1",
   "metadata": {},
   "outputs": [],
   "source": [
    "basedir = 'C:/Users/wellawat/Downloads/conf_energies'\n",
    "datadir = 'C:/Users/wellawat/Downloads/conf_energies/complete_dataset'\n",
    "\n",
    "df_gas_C= pd.read_csv(f'{basedir}/Gas_coformational_energy.csv')\n",
    "df_wat_C = pd.read_csv(f'{basedir}/Water_coformational_energy.csv')\n",
    "df_gas_S = pd.read_csv(f'{basedir}/Gas_strain_energy.csv')\n",
    "df_wat_S = pd.read_csv(f'{basedir}/Water_strain_energy.csv')"
   ]
  },
  {
   "cell_type": "markdown",
   "id": "ac386807",
   "metadata": {},
   "source": [
    "### 1) Find which molecules have high energies"
   ]
  },
  {
   "cell_type": "code",
   "execution_count": null,
   "id": "06770331",
   "metadata": {},
   "outputs": [],
   "source": [
    "energies = [df_gas_C,df_wat_C,df_gas_S,df_wat_S]\n",
    "phases = ['gas','water','gas','water']\n",
    "out_type = ['conf','conf','strain','strain']\n",
    "types = ['Delta_conformational_energy(kJ/mol)','Delta_conformational_energy(kJ/mol)','Delta_strain_energy','Delta_strain_energy']\n",
    "xlabels = [r'$\\Delta$ Conformation energy (kJ/mol)',r'$\\Delta$ Conformation energy (kJ/mol)',r'$\\Delta$ Strain energy (kJ/mol)',r'$\\Delta$ Strain energy (kJ/mol)']"
   ]
  },
  {
   "cell_type": "code",
   "execution_count": null,
   "id": "8ab38e76",
   "metadata": {},
   "outputs": [],
   "source": [
    "high_e_list = []\n",
    "for i in range(4):\n",
    "    df = energies[i]\n",
    "    e = list(df[types[i]])\n",
    "    etype = out_type[i]\n",
    "    phase = phases[i]\n",
    "    heading = types[i]\n",
    "    \n",
    "    if etype=='strain': thresh = 30.0\n",
    "\n",
    "    else: thresh = 35.0\n",
    "        \n",
    "    percent = df[df[heading] < thresh].count().Refcodes/len(e)*100\n",
    "    \n",
    "    print(f'cutoff percentatge {etype}-{phase}:',percent)\n",
    "    \n",
    "    ref_comb = df[df[heading] > thresh]['Refcodes'].values\n",
    "    for comb in ref_comb:\n",
    "        ref1 = comb.split('_')[0]\n",
    "        ref2 = comb.split('_')[1]\n",
    "        m1m2 = df[df['Refcodes']==comb]['components'].values[0]\n",
    "        m1 = m1m2.split('_')[0]\n",
    "        m2 = m1m2.split('_')[1]\n",
    "        \n",
    "        if etype=='conf':\n",
    "            file1 = f'{ref1}_m_{m1}_{phase}_xR'\n",
    "            file2 = f'{ref2}_m_{m2}_{phase}_xR'\n",
    "            high_e_list.append(file1)\n",
    "            high_e_list.append(file2)\n",
    "            \n",
    "        else:\n",
    "            file11 = f'{ref1}_m_{m1}_{phase}_xR'\n",
    "            file11 = f'{ref1}_m_{m1}_{phase}_R'\n",
    "            file22 = f'{ref2}_m_{m2}_{phase}_xR'\n",
    "            file22 = f'{ref2}_m_{m2}_{phase}_R'\n",
    "\n",
    "    #df[df[types[i]]==22000]['Courses'].values[0]\n",
    "    #print(phases[i],out_type[i] ,df[df[types[i]] < 30.0 ].count()/len(e)*100)\n",
    "    #plot_histogram(e,f'{basedir}/{phases[i]}_{out_type[i]}_energy.png',xlabel=xlabels[i])"
   ]
  },
  {
   "cell_type": "markdown",
   "id": "4a681ef4",
   "metadata": {},
   "source": [
    "### 2) Move to identified files to a new folder"
   ]
  },
  {
   "cell_type": "code",
   "execution_count": null,
   "id": "50aa4e71",
   "metadata": {},
   "outputs": [],
   "source": [
    "high_e_list = list(set(high_e_list))\n",
    "for file in high_e_list:\n",
    "    shutil.copy(f'{datadir}/{file}.out',f'{datadir}/high_files/{file}.out')\n",
    "    print(f'{file} moved to {datadir}/high_files/{file}')"
   ]
  },
  {
   "cell_type": "markdown",
   "id": "e34edd9b",
   "metadata": {},
   "source": [
    "### 3) Flag with end of file\n",
    "NT - Normal termination\n",
    "ET - Error termination"
   ]
  },
  {
   "cell_type": "code",
   "execution_count": null,
   "id": "ce4c26e9",
   "metadata": {
    "scrolled": true
   },
   "outputs": [],
   "source": [
    "files = os.listdir(f'{datadir}/high_files')\n",
    "for file in files:\n",
    "    if file.endswith('.out'):\n",
    "        f = open(f'{datadir}/high_files/{file}', \"r\")\n",
    "        readfile = f.read()\n",
    "        f.close()\n",
    "        if \"Normal termination\" in readfile: \n",
    "            print('String Found In File',file)\n",
    "            new_name = file.replace('.out','_NT.out')\n",
    "            os.rename(f'{datadir}/high_files/{file}', f'{datadir}/high_files/{new_name}')\n",
    "        else: \n",
    "            new_name = file.replace('.out','_ET.out')\n",
    "            os.rename(f'{datadir}/high_files/{file}', f'{datadir}/high_files/{new_name}')\n",
    "            print('String Not Found In File',file)"
   ]
  },
  {
   "cell_type": "markdown",
   "id": "f4b29747",
   "metadata": {},
   "source": [
    "### 4) Write com files for mol2  files created with babel\n",
    "Use in HPC `module load openbabel ; babel xxx.out xxx.mol2`"
   ]
  },
  {
   "cell_type": "code",
   "execution_count": null,
   "id": "21ca17ac",
   "metadata": {},
   "outputs": [],
   "source": [
    "from ccdc.io import EntryReader\n",
    "from ccdc.io import MoleculeReader\n",
    "from ccdc.io import CrystalReader\n",
    "from ccdc.io import CrystalWriter\n",
    "from ccdc.io import MoleculeWriter\n",
    "from ccdc import conformer"
   ]
  },
  {
   "cell_type": "code",
   "execution_count": null,
   "id": "4745e8f7",
   "metadata": {},
   "outputs": [],
   "source": [
    "def create_mol(mol_file=None):\n",
    "    from ccdc.io import MoleculeReader\n",
    "    mol = MoleculeReader(mol_file)[0]\n",
    "    engine = conformer.GeometryAnalyser()\n",
    "    engine.settings.bond.analyse = False\n",
    "    engine.settings.angle.analyse = False\n",
    "    engine.settings.ring.analyse = False\n",
    "\n",
    "    checked_mol = engine.analyse_molecule(mol)\n",
    "\n",
    "    return checked_mol"
   ]
  },
  {
   "cell_type": "code",
   "execution_count": null,
   "id": "2c2df61e",
   "metadata": {},
   "outputs": [],
   "source": [
    "def write_input(mol_file, save_path=None,spin_mul='0 1'):\n",
    "\n",
    "    job_types = {'gas-xR': 'opt',\n",
    "    'gas-R':  'opt=modredundant',\n",
    "    'water-xR': 'opt scrf(smd, solvent=water)',\n",
    "    'water-R':'opt=modredundant scrf(smd, solvent=water)'} \n",
    "\n",
    "    mol_name = mol_file.split('/')[-1]\n",
    "    phase = mol_name .split('_')[3]\n",
    "    ext = mol_name .split('_')[4]\n",
    "    job = job_types[f'{phase}-{ext}']\n",
    "    print(mol_file)\n",
    "\n",
    "    mol = create_mol(mol_file)    \n",
    "    coords = []\n",
    "    mol.assign_bond_types(which='all')\n",
    "    mol.add_hydrogens(mode='missing') \n",
    "\n",
    "    for a in mol.atoms:\n",
    "        label = np.array([str(a.atomic_symbol)])\n",
    "        xyz = np.array([c for c in a.coordinates])\n",
    "        coords.append(np.concatenate((label, xyz)))\n",
    "\n",
    "    out_name = mol_file.replace('.mol2','.com')\n",
    "\n",
    "\n",
    "    with open(f'{out_name}' , 'wb') as f:\n",
    "            header = f'%NProcShared=24 \\n%Chk={mol_name}.chk \\n%Mem=25GB \\n# M062X/6-31+G** int=(acc2e=14) {job} \\n\\n{mol_name}-{job} \\n\\n{spin_mul}'\n",
    "            np.savetxt(f, list(coords), delimiter=' ', newline='\\n', header=header, footer='', comments='',fmt='%s')\n",
    "    f.close()\n",
    "\n",
    "    f2 = open(f'{out_name}','a')\n",
    "    f2.write('\\n')\n",
    "    f2.close()"
   ]
  },
  {
   "cell_type": "code",
   "execution_count": null,
   "id": "4100eedc",
   "metadata": {
    "scrolled": true
   },
   "outputs": [],
   "source": [
    "mol_dir = f'{datadir}/high_files/mol_files'\n",
    "files = os.listdir(mol_dir)\n",
    "for file in files:\n",
    "    if file.endswith('mol2'):\n",
    "        write_input(f'{mol_dir}/{file}', save_path=f'{datadir}/high_files/com_files')"
   ]
  },
  {
   "cell_type": "markdown",
   "id": "1cdc930e",
   "metadata": {},
   "source": [
    "## After re-running the files with NT from the last frame: find their energies and concat with complete_dataset.txt"
   ]
  },
  {
   "cell_type": "code",
   "execution_count": 38,
   "id": "0efbd35c",
   "metadata": {},
   "outputs": [
    {
     "name": "stdout",
     "output_type": "stream",
     "text": [
      "FUYJAK01_m_1_water_xR_ET\n",
      "HNIABZ11_m_1_water_xR_ET\n",
      "IYEBUJ01_m_1_water_xR_ET\n",
      "MILHOF01_m_1_water_xR_ET\n",
      "OCHTET_m_1_water_xR_ET\n",
      "SUWMIG02_m_1_water_xR_ET\n",
      "UJIWEQ01_m_1_water_xR_ET\n"
     ]
    }
   ],
   "source": [
    "basedir = 'C:/Users/wellawat/Downloads/conf_energies'\n",
    "data = pd.read_csv(f'{basedir}/highE_NT_rerun_scf_done.txt', sep=' ', header=None, names=['filename', 'energy']) \n",
    "error_data = open(f'{basedir}/error_2nd_time.txt', 'r').readlines() \n",
    "new = [line.strip() for line in error_data]\n",
    "error_files = [l.split('/')[-1 ].split('.')[0] for l in new]\n",
    "\n",
    "\n",
    "# create edit file names\n",
    "nrows = data.shape[0]\n",
    "for i in range(nrows):\n",
    "    fname = data['filename'][i].split('/')[-1]\n",
    "    data['filename'][i] = fname.split('.')[0]\n",
    "\n",
    "#drop rows if file ended with Error termination\n",
    "for i in range(nrows):\n",
    "    file = data['filename'][i] \n",
    "    if file in error_files:\n",
    "        data = data.drop(i)\n",
    "        print(file)\n",
    "        \n",
    "data.to_csv(f'{basedir}/highE_NT_rerun_scf_done.csv',index=False)"
   ]
  },
  {
   "cell_type": "code",
   "execution_count": 39,
   "id": "2f1b75ec",
   "metadata": {},
   "outputs": [
    {
     "name": "stdout",
     "output_type": "stream",
     "text": [
      "(73, 2)\n"
     ]
    }
   ],
   "source": [
    "data= pd.read_csv(f'{basedir}/highE_NT_rerun_scf_done.csv')\n",
    "print(data.shape)"
   ]
  },
  {
   "cell_type": "code",
   "execution_count": 40,
   "id": "aa6059f2",
   "metadata": {
    "scrolled": true
   },
   "outputs": [
    {
     "name": "stdout",
     "output_type": "stream",
     "text": [
      "APUDEV01_m_1_gas_xR\n",
      "APUDEV01_m_1_water_xR\n",
      "APUDEV_m_1_gas_xR\n",
      "APUDEV_m_1_water_xR\n",
      "BEMLOU03_m_1_gas_xR\n",
      "BEMLOU23_m_1_gas_xR\n",
      "ESIWUY02_m_1_gas_xR\n",
      "ESIWUY_m_1_gas_xR\n",
      "FODMAO01_m_1_gas_xR\n",
      "FODMAO_m_1_gas_xR\n",
      "FUYJAK01_m_1_gas_xR\n",
      "FUYJAK_m_1_gas_xR\n",
      "FUYJAK_m_1_water_xR\n",
      "GEDSAM01_m_1_gas_xR\n",
      "GEDSAM01_m_1_water_xR\n",
      "GEDSAM_m_1_gas_xR\n",
      "GEDSAM_m_1_water_xR\n",
      "HAXMAW01_m_1_gas_xR\n",
      "HAXMAW01_m_1_water_xR\n",
      "HAXMAW_m_1_gas_xR\n",
      "HAXMAW_m_1_water_xR\n",
      "HNIABZ20_m_1_water_xR\n",
      "ICIMAI01_m_1_gas_xR\n",
      "ICIMAI_m_1_gas_xR\n",
      "IHAPOX01_m_1_gas_xR\n",
      "IHAPOX02_m_1_gas_xR\n",
      "IHAPOX02_m_1_water_xR\n",
      "IHAPOX_m_1_gas_xR\n",
      "IHAPOX_m_1_water_xR\n",
      "INOHIC01_m_1_gas_xR\n",
      "INOHIC_m_1_gas_xR\n",
      "IYEBUJ03_m_1_water_xR\n",
      "KELGEO01_m_1_gas_xR\n",
      "KELGEO01_m_1_water_xR\n",
      "KELGEO02_m_1_gas_xR\n",
      "KELGEO02_m_1_water_xR\n",
      "KELGEO03_m_1_gas_xR\n",
      "KELGEO03_m_1_water_xR\n",
      "KELGEO_m_1_gas_xR\n",
      "KELGEO_m_1_water_xR\n",
      "KISQUZ01_m_1_gas_xR\n",
      "KISQUZ01_m_1_water_xR\n",
      "KISQUZ_m_1_gas_xR\n",
      "KISQUZ_m_1_water_xR\n",
      "MHQACD02_m_1_gas_xR\n",
      "MHQACD02_m_1_water_xR\n",
      "MHQACD_m_1_gas_xR\n",
      "MHQACD_m_1_water_xR\n",
      "MILHOF02_m_1_water_xR\n",
      "MILHOF_m_1_water_xR\n",
      "MUJTOB01_m_1_gas_xR\n",
      "MUJTOB01_m_1_water_xR\n",
      "MUJTOB_m_1_gas_xR\n",
      "MUJTOB_m_1_water_xR\n",
      "OCHTET13_m_1_water_xR\n",
      "QEDTIC01_m_1_gas_xR\n",
      "QEDTIC01_m_1_water_xR\n",
      "QEDTIC_m_1_gas_xR\n",
      "QEDTIC_m_1_water_xR\n",
      "RAPFEW01_m_1_water_xR\n",
      "RAPFEW_m_1_water_xR\n",
      "SAPDAQ02_m_1_gas_xR\n",
      "SAPDAQ_m_1_gas_xR\n",
      "SUWMIG03_m_1_water_xR\n",
      "TDBOCP01_m_1_gas_xR\n",
      "TDBOCP01_m_1_water_xR\n",
      "TDBOCP_m_1_gas_xR\n",
      "TDBOCP_m_1_water_xR\n",
      "TIYDOW01_m_1_gas_xR\n",
      "TIYDOW01_m_1_water_xR\n",
      "TIYDOW_m_1_gas_xR\n",
      "TIYDOW_m_1_water_xR\n",
      "UJIWEQ_m_1_water_xR\n"
     ]
    },
    {
     "data": {
      "text/html": [
       "<div>\n",
       "<style scoped>\n",
       "    .dataframe tbody tr th:only-of-type {\n",
       "        vertical-align: middle;\n",
       "    }\n",
       "\n",
       "    .dataframe tbody tr th {\n",
       "        vertical-align: top;\n",
       "    }\n",
       "\n",
       "    .dataframe thead th {\n",
       "        text-align: right;\n",
       "    }\n",
       "</style>\n",
       "<table border=\"1\" class=\"dataframe\">\n",
       "  <thead>\n",
       "    <tr style=\"text-align: right;\">\n",
       "      <th></th>\n",
       "      <th>filename</th>\n",
       "      <th>energy</th>\n",
       "    </tr>\n",
       "  </thead>\n",
       "  <tbody>\n",
       "    <tr>\n",
       "      <th>0</th>\n",
       "      <td>APUDEV01_m_1_gas_xR</td>\n",
       "      <td>-3430.334139</td>\n",
       "    </tr>\n",
       "    <tr>\n",
       "      <th>1</th>\n",
       "      <td>APUDEV01_m_1_water_xR</td>\n",
       "      <td>-3430.336768</td>\n",
       "    </tr>\n",
       "    <tr>\n",
       "      <th>2</th>\n",
       "      <td>APUDEV_m_1_gas_xR</td>\n",
       "      <td>-3430.349545</td>\n",
       "    </tr>\n",
       "    <tr>\n",
       "      <th>3</th>\n",
       "      <td>APUDEV_m_1_water_xR</td>\n",
       "      <td>-3430.352048</td>\n",
       "    </tr>\n",
       "    <tr>\n",
       "      <th>4</th>\n",
       "      <td>BEMLOU03_m_1_gas_xR</td>\n",
       "      <td>-1762.472396</td>\n",
       "    </tr>\n",
       "  </tbody>\n",
       "</table>\n",
       "</div>"
      ],
      "text/plain": [
       "                filename       energy\n",
       "0    APUDEV01_m_1_gas_xR -3430.334139\n",
       "1  APUDEV01_m_1_water_xR -3430.336768\n",
       "2      APUDEV_m_1_gas_xR -3430.349545\n",
       "3    APUDEV_m_1_water_xR -3430.352048\n",
       "4    BEMLOU03_m_1_gas_xR -1762.472396"
      ]
     },
     "execution_count": 40,
     "metadata": {},
     "output_type": "execute_result"
    }
   ],
   "source": [
    "nrows = data.shape[0]\n",
    "for i in range(nrows):\n",
    "    fname = data['filename'][i].replace('_NT','')\n",
    "    data['filename'][i] = fname\n",
    "    print(fname)\n",
    "    \n",
    "data.to_csv(f'{basedir}/highE_NT_rerun_scf_done.csv',index=False)\n",
    "data.head()"
   ]
  },
  {
   "cell_type": "code",
   "execution_count": 34,
   "id": "f25f896d",
   "metadata": {},
   "outputs": [],
   "source": []
  },
  {
   "cell_type": "code",
   "execution_count": 37,
   "id": "2ae3e9f2",
   "metadata": {},
   "outputs": [
    {
     "data": {
      "text/html": [
       "<div>\n",
       "<style scoped>\n",
       "    .dataframe tbody tr th:only-of-type {\n",
       "        vertical-align: middle;\n",
       "    }\n",
       "\n",
       "    .dataframe tbody tr th {\n",
       "        vertical-align: top;\n",
       "    }\n",
       "\n",
       "    .dataframe thead th {\n",
       "        text-align: right;\n",
       "    }\n",
       "</style>\n",
       "<table border=\"1\" class=\"dataframe\">\n",
       "  <thead>\n",
       "    <tr style=\"text-align: right;\">\n",
       "      <th></th>\n",
       "      <th>filename</th>\n",
       "      <th>energy</th>\n",
       "    </tr>\n",
       "  </thead>\n",
       "  <tbody>\n",
       "    <tr>\n",
       "      <th>0</th>\n",
       "      <td>NT</td>\n",
       "      <td>-3430.334139</td>\n",
       "    </tr>\n",
       "    <tr>\n",
       "      <th>1</th>\n",
       "      <td>NT</td>\n",
       "      <td>-3430.336768</td>\n",
       "    </tr>\n",
       "    <tr>\n",
       "      <th>2</th>\n",
       "      <td>NT</td>\n",
       "      <td>-3430.349545</td>\n",
       "    </tr>\n",
       "    <tr>\n",
       "      <th>3</th>\n",
       "      <td>NT</td>\n",
       "      <td>-3430.352048</td>\n",
       "    </tr>\n",
       "    <tr>\n",
       "      <th>4</th>\n",
       "      <td>NT</td>\n",
       "      <td>-1762.472396</td>\n",
       "    </tr>\n",
       "    <tr>\n",
       "      <th>...</th>\n",
       "      <td>...</td>\n",
       "      <td>...</td>\n",
       "    </tr>\n",
       "    <tr>\n",
       "      <th>68</th>\n",
       "      <td>NT</td>\n",
       "      <td>-3031.828342</td>\n",
       "    </tr>\n",
       "    <tr>\n",
       "      <th>69</th>\n",
       "      <td>NT</td>\n",
       "      <td>-3031.824967</td>\n",
       "    </tr>\n",
       "    <tr>\n",
       "      <th>70</th>\n",
       "      <td>NT</td>\n",
       "      <td>-3031.844427</td>\n",
       "    </tr>\n",
       "    <tr>\n",
       "      <th>71</th>\n",
       "      <td>NT</td>\n",
       "      <td>-3031.839424</td>\n",
       "    </tr>\n",
       "    <tr>\n",
       "      <th>72</th>\n",
       "      <td>NT</td>\n",
       "      <td>-1634.294538</td>\n",
       "    </tr>\n",
       "  </tbody>\n",
       "</table>\n",
       "<p>73 rows × 2 columns</p>\n",
       "</div>"
      ],
      "text/plain": [
       "   filename       energy\n",
       "0        NT -3430.334139\n",
       "1        NT -3430.336768\n",
       "2        NT -3430.349545\n",
       "3        NT -3430.352048\n",
       "4        NT -1762.472396\n",
       "..      ...          ...\n",
       "68       NT -3031.828342\n",
       "69       NT -3031.824967\n",
       "70       NT -3031.844427\n",
       "71       NT -3031.839424\n",
       "72       NT -1634.294538\n",
       "\n",
       "[73 rows x 2 columns]"
      ]
     },
     "execution_count": 37,
     "metadata": {},
     "output_type": "execute_result"
    }
   ],
   "source": [
    "data"
   ]
  },
  {
   "cell_type": "markdown",
   "id": "8a976e79",
   "metadata": {},
   "source": [
    "### 5) Create images from mol2 files"
   ]
  },
  {
   "cell_type": "code",
   "execution_count": null,
   "id": "12a428b2",
   "metadata": {},
   "outputs": [],
   "source": [
    "import os\n",
    "import pandas as pd\n",
    "\n",
    "from rdkit import Chem\n",
    "from rdkit.Chem import Draw,AllChem\n",
    "from rdkit.Chem.Draw import IPythonConsole\n",
    "\n",
    "IPythonConsole.drawOptions.addAtomIndices = True\n",
    "IPythonConsole.molSize = 300,300"
   ]
  },
  {
   "cell_type": "code",
   "execution_count": null,
   "id": "2e61a0d9",
   "metadata": {},
   "outputs": [],
   "source": [
    "mol_dir = f'{datadir}/high_files/mol_files'\n",
    "files = os.listdir(mol_dir)\n",
    "smiles = []\n",
    "for file in files:\n",
    "    if file.endswith('mol2'):\n",
    "        mol = MoleculeReader(f'{mol_dir}/{file}')[0]\n",
    "        smiles.append(mol.smiles)"
   ]
  },
  {
   "cell_type": "code",
   "execution_count": null,
   "id": "673da510",
   "metadata": {},
   "outputs": [],
   "source": [
    "smiles[1]"
   ]
  },
  {
   "cell_type": "code",
   "execution_count": null,
   "id": "17ee6adf",
   "metadata": {},
   "outputs": [],
   "source": [
    "for i, smile in enumerate(smiles):\n",
    "    mol = Chem.MolFromSmiles(smile)\n",
    "    mol\n"
   ]
  },
  {
   "cell_type": "code",
   "execution_count": null,
   "id": "0d0369bb",
   "metadata": {},
   "outputs": [],
   "source": [
    "ms = [Chem.MolFromSmiles(x) for x in smiles]\n",
    "Draw.MolsToGridImage(ms)"
   ]
  },
  {
   "cell_type": "code",
   "execution_count": null,
   "id": "15e3ccc6",
   "metadata": {},
   "outputs": [],
   "source": [
    "filePath = 'C:/Users/wellawat/Downloads/conf_energies/complete_dataset/high_files/mol_files/HAXMAW01_m_1_gas_xR_NT.out.mol2'\n",
    "database=Mol2MolSupplier(filePath,sanitize=True)"
   ]
  },
  {
   "cell_type": "code",
   "execution_count": null,
   "id": "f572b944",
   "metadata": {},
   "outputs": [],
   "source": [
    "database"
   ]
  },
  {
   "cell_type": "code",
   "execution_count": null,
   "id": "3cf54ae4",
   "metadata": {},
   "outputs": [],
   "source": [
    "Chem.MolToSmiles(m)"
   ]
  },
  {
   "cell_type": "code",
   "execution_count": null,
   "id": "dd64290e",
   "metadata": {},
   "outputs": [],
   "source": []
  }
 ],
 "metadata": {
  "kernelspec": {
   "display_name": "summer",
   "language": "python",
   "name": "summer"
  },
  "language_info": {
   "codemirror_mode": {
    "name": "ipython",
    "version": 3
   },
   "file_extension": ".py",
   "mimetype": "text/x-python",
   "name": "python",
   "nbconvert_exporter": "python",
   "pygments_lexer": "ipython3",
   "version": "3.7.13"
  }
 },
 "nbformat": 4,
 "nbformat_minor": 5
}
